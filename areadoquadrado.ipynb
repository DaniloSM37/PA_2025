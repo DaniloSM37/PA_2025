{
  "nbformat": 4,
  "nbformat_minor": 0,
  "metadata": {
    "colab": {
      "provenance": [],
      "authorship_tag": "ABX9TyNmPl/uWetDbhB0nbetLT6C",
      "include_colab_link": true
    },
    "kernelspec": {
      "name": "python3",
      "display_name": "Python 3"
    },
    "language_info": {
      "name": "python"
    }
  },
  "cells": [
    {
      "cell_type": "markdown",
      "metadata": {
        "id": "view-in-github",
        "colab_type": "text"
      },
      "source": [
        "<a href=\"https://colab.research.google.com/github/DaniloSM37/PA_2025/blob/main/areadoquadrado.ipynb\" target=\"_parent\"><img src=\"https://colab.research.google.com/assets/colab-badge.svg\" alt=\"Open In Colab\"/></a>"
      ]
    },
    {
      "cell_type": "code",
      "execution_count": null,
      "metadata": {
        "colab": {
          "base_uri": "https://localhost:8080/"
        },
        "id": "OEGyeDmVVIy4",
        "outputId": "b20da2d2-8d66-4509-bac5-87ee3f9dc67b"
      },
      "outputs": [
        {
          "output_type": "stream",
          "name": "stdout",
          "text": [
            "hello world\n"
          ]
        }
      ],
      "source": [
        "aula = \"hello world\"\n",
        "\n",
        "print(aula)"
      ]
    },
    {
      "cell_type": "code",
      "source": [
        "#entrada\n",
        "l = 4"
      ],
      "metadata": {
        "id": "UrN5BsK0WWBO"
      },
      "execution_count": null,
      "outputs": []
    },
    {
      "cell_type": "code",
      "source": [
        "#processamento\n",
        "area = l * l"
      ],
      "metadata": {
        "id": "dDiQStzcYBzm"
      },
      "execution_count": null,
      "outputs": []
    },
    {
      "cell_type": "code",
      "source": [
        "#saída\n",
        "print(\"a area do quadrado é\",area)"
      ],
      "metadata": {
        "colab": {
          "base_uri": "https://localhost:8080/"
        },
        "id": "hw26MalsYqCx",
        "outputId": "72fdd660-85ba-4557-fbaf-5b6a02a52abd"
      },
      "execution_count": null,
      "outputs": [
        {
          "output_type": "stream",
          "name": "stdout",
          "text": [
            "a area do quadrado é 16\n"
          ]
        }
      ]
    }
  ]
}