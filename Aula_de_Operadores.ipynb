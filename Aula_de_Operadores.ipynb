{
  "nbformat": 4,
  "nbformat_minor": 0,
  "metadata": {
    "colab": {
      "provenance": [],
      "authorship_tag": "ABX9TyOpGp7iNjuW5ou4vQg4ISFm",
      "include_colab_link": true
    },
    "kernelspec": {
      "name": "python3",
      "display_name": "Python 3"
    },
    "language_info": {
      "name": "python"
    }
  },
  "cells": [
    {
      "cell_type": "markdown",
      "metadata": {
        "id": "view-in-github",
        "colab_type": "text"
      },
      "source": [
        "<a href=\"https://colab.research.google.com/github/DaniloSM37/PA_2025/blob/main/Aula_de_Operadores.ipynb\" target=\"_parent\"><img src=\"https://colab.research.google.com/assets/colab-badge.svg\" alt=\"Open In Colab\"/></a>"
      ]
    },
    {
      "cell_type": "code",
      "execution_count": 1,
      "metadata": {
        "colab": {
          "base_uri": "https://localhost:8080/"
        },
        "id": "FuTuDCQheDeY",
        "outputId": "d0570ef5-6b9c-49ca-fafc-8144635c6dfd"
      },
      "outputs": [
        {
          "output_type": "execute_result",
          "data": {
            "text/plain": [
              "22.466666666666665"
            ]
          },
          "metadata": {},
          "execution_count": 1
        }
      ],
      "source": [
        "337/15"
      ]
    },
    {
      "cell_type": "markdown",
      "source": [
        "divisão"
      ],
      "metadata": {
        "id": "mZM34TvmiWBa"
      }
    },
    {
      "cell_type": "code",
      "source": [
        "100*8"
      ],
      "metadata": {
        "colab": {
          "base_uri": "https://localhost:8080/"
        },
        "id": "BUcSFX2yhmdR",
        "outputId": "ff64e808-4903-4e94-809e-c213c5ca9488"
      },
      "execution_count": 2,
      "outputs": [
        {
          "output_type": "execute_result",
          "data": {
            "text/plain": [
              "800"
            ]
          },
          "metadata": {},
          "execution_count": 2
        }
      ]
    },
    {
      "cell_type": "markdown",
      "source": [
        "multiplicação"
      ],
      "metadata": {
        "id": "F6bhMsCCiYlR"
      }
    },
    {
      "cell_type": "code",
      "source": [
        "11-2"
      ],
      "metadata": {
        "colab": {
          "base_uri": "https://localhost:8080/"
        },
        "id": "zxZQHFwphrrO",
        "outputId": "7ee07212-6621-468c-b5ba-ca33a02b44dd"
      },
      "execution_count": 3,
      "outputs": [
        {
          "output_type": "execute_result",
          "data": {
            "text/plain": [
              "9"
            ]
          },
          "metadata": {},
          "execution_count": 3
        }
      ]
    },
    {
      "cell_type": "markdown",
      "source": [
        "subtração"
      ],
      "metadata": {
        "id": "Vzh2C12fibr7"
      }
    },
    {
      "cell_type": "code",
      "source": [
        "175+3"
      ],
      "metadata": {
        "colab": {
          "base_uri": "https://localhost:8080/"
        },
        "id": "FcqeIQ8Ohutm",
        "outputId": "8be37247-eee4-40ec-b9fe-ff9f85475efc"
      },
      "execution_count": 4,
      "outputs": [
        {
          "output_type": "execute_result",
          "data": {
            "text/plain": [
              "178"
            ]
          },
          "metadata": {},
          "execution_count": 4
        }
      ]
    },
    {
      "cell_type": "markdown",
      "source": [
        "adição"
      ],
      "metadata": {
        "id": "TyHG4jOzidfJ"
      }
    },
    {
      "cell_type": "markdown",
      "source": [
        "#igualdadde"
      ],
      "metadata": {
        "id": "ab3ZSvhzjCua"
      }
    },
    {
      "cell_type": "code",
      "source": [
        "a = 4\n",
        "a == 4"
      ],
      "metadata": {
        "colab": {
          "base_uri": "https://localhost:8080/"
        },
        "id": "tOYBmvPsiqyP",
        "outputId": "a7d894fa-037b-4803-9e3a-3a8501d208a9"
      },
      "execution_count": 6,
      "outputs": [
        {
          "output_type": "execute_result",
          "data": {
            "text/plain": [
              "True"
            ]
          },
          "metadata": {},
          "execution_count": 6
        }
      ]
    },
    {
      "cell_type": "code",
      "source": [
        "a == 3"
      ],
      "metadata": {
        "colab": {
          "base_uri": "https://localhost:8080/"
        },
        "id": "-kVCmgF8i8ZT",
        "outputId": "8ec6ebc3-4d7d-47a4-8431-aff60c3fce33"
      },
      "execution_count": 7,
      "outputs": [
        {
          "output_type": "execute_result",
          "data": {
            "text/plain": [
              "False"
            ]
          },
          "metadata": {},
          "execution_count": 7
        }
      ]
    },
    {
      "cell_type": "markdown",
      "source": [
        "expoente"
      ],
      "metadata": {
        "id": "BMgJFgsZjqZt"
      }
    },
    {
      "cell_type": "code",
      "source": [
        "4**3\n"
      ],
      "metadata": {
        "colab": {
          "base_uri": "https://localhost:8080/"
        },
        "id": "ncP8MP1gjoLt",
        "outputId": "b103bb23-0073-4a12-c4a2-8d7502863f76"
      },
      "execution_count": 8,
      "outputs": [
        {
          "output_type": "execute_result",
          "data": {
            "text/plain": [
              "64"
            ]
          },
          "metadata": {},
          "execution_count": 8
        }
      ]
    },
    {
      "cell_type": "markdown",
      "source": [
        "Maior, Menor, maior ou igual e menor ou igual"
      ],
      "metadata": {
        "id": "ygHByORXkEi7"
      }
    },
    {
      "cell_type": "code",
      "source": [
        "5>2"
      ],
      "metadata": {
        "colab": {
          "base_uri": "https://localhost:8080/"
        },
        "id": "WJdE9_NCknKF",
        "outputId": "4753fe47-c690-4efd-bbcf-6b611794d8a6"
      },
      "execution_count": 9,
      "outputs": [
        {
          "output_type": "execute_result",
          "data": {
            "text/plain": [
              "True"
            ]
          },
          "metadata": {},
          "execution_count": 9
        }
      ]
    },
    {
      "cell_type": "code",
      "source": [
        "5>6\n"
      ],
      "metadata": {
        "colab": {
          "base_uri": "https://localhost:8080/"
        },
        "id": "Cw6OmefikqTN",
        "outputId": "269eda19-d2f6-4be5-f87e-01a831817750"
      },
      "execution_count": 10,
      "outputs": [
        {
          "output_type": "execute_result",
          "data": {
            "text/plain": [
              "False"
            ]
          },
          "metadata": {},
          "execution_count": 10
        }
      ]
    },
    {
      "cell_type": "code",
      "source": [
        "5<6"
      ],
      "metadata": {
        "colab": {
          "base_uri": "https://localhost:8080/"
        },
        "id": "4P-NGh2nlOgw",
        "outputId": "de755c1d-85be-4af7-a29f-dda51822ff74"
      },
      "execution_count": 11,
      "outputs": [
        {
          "output_type": "execute_result",
          "data": {
            "text/plain": [
              "True"
            ]
          },
          "metadata": {},
          "execution_count": 11
        }
      ]
    },
    {
      "cell_type": "code",
      "source": [
        "5<4"
      ],
      "metadata": {
        "colab": {
          "base_uri": "https://localhost:8080/"
        },
        "id": "zwUSMfsalWCh",
        "outputId": "b56f1341-6e11-469e-8c4f-bb566470f4fb"
      },
      "execution_count": 12,
      "outputs": [
        {
          "output_type": "execute_result",
          "data": {
            "text/plain": [
              "False"
            ]
          },
          "metadata": {},
          "execution_count": 12
        }
      ]
    },
    {
      "cell_type": "code",
      "source": [
        "5>=5"
      ],
      "metadata": {
        "colab": {
          "base_uri": "https://localhost:8080/"
        },
        "id": "XzsQuX0mlZbP",
        "outputId": "c6f4d39e-8d23-4e56-adf1-6c1507b4093c"
      },
      "execution_count": 13,
      "outputs": [
        {
          "output_type": "execute_result",
          "data": {
            "text/plain": [
              "True"
            ]
          },
          "metadata": {},
          "execution_count": 13
        }
      ]
    },
    {
      "cell_type": "code",
      "source": [
        "700000000000<=56756"
      ],
      "metadata": {
        "colab": {
          "base_uri": "https://localhost:8080/"
        },
        "id": "lvh5gZD4mHGU",
        "outputId": "b30e9df4-aa3c-481c-bdc0-72612eef5941"
      },
      "execution_count": 14,
      "outputs": [
        {
          "output_type": "execute_result",
          "data": {
            "text/plain": [
              "False"
            ]
          },
          "metadata": {},
          "execution_count": 14
        }
      ]
    },
    {
      "cell_type": "code",
      "source": [
        "7000000000000<=999999999999999999999999999999999"
      ],
      "metadata": {
        "colab": {
          "base_uri": "https://localhost:8080/"
        },
        "id": "NqThdTI6mNvT",
        "outputId": "9bc7e188-3b0f-4ebd-f64f-5c83b980378d"
      },
      "execution_count": 15,
      "outputs": [
        {
          "output_type": "execute_result",
          "data": {
            "text/plain": [
              "True"
            ]
          },
          "metadata": {},
          "execution_count": 15
        }
      ]
    },
    {
      "cell_type": "code",
      "source": [
        "5-6+8+15*(6/2)+a-9==47"
      ],
      "metadata": {
        "colab": {
          "base_uri": "https://localhost:8080/"
        },
        "id": "lSFjuAkomUPC",
        "outputId": "18e7f430-405b-4fef-99ba-fc1776e52b71"
      },
      "execution_count": 19,
      "outputs": [
        {
          "output_type": "execute_result",
          "data": {
            "text/plain": [
              "True"
            ]
          },
          "metadata": {},
          "execution_count": 19
        }
      ]
    },
    {
      "cell_type": "markdown",
      "source": [
        "diferente"
      ],
      "metadata": {
        "id": "zic9QVyPnaCi"
      }
    },
    {
      "cell_type": "code",
      "source": [
        "a!=4"
      ],
      "metadata": {
        "colab": {
          "base_uri": "https://localhost:8080/"
        },
        "id": "gLl0KmLenUHM",
        "outputId": "d67abf73-ce23-4ec1-d5db-ef3c9aeeb78c"
      },
      "execution_count": 20,
      "outputs": [
        {
          "output_type": "execute_result",
          "data": {
            "text/plain": [
              "False"
            ]
          },
          "metadata": {},
          "execution_count": 20
        }
      ]
    },
    {
      "cell_type": "code",
      "source": [
        "e=1\n",
        "f=7\n",
        "h=34"
      ],
      "metadata": {
        "id": "eJJPWHZDneIC"
      },
      "execution_count": 21,
      "outputs": []
    },
    {
      "cell_type": "code",
      "source": [
        "e-a+f*h"
      ],
      "metadata": {
        "colab": {
          "base_uri": "https://localhost:8080/"
        },
        "id": "xCcZE-4hnnGl",
        "outputId": "fe97131c-4fd0-4e70-d643-437294e7f2b7"
      },
      "execution_count": 22,
      "outputs": [
        {
          "output_type": "execute_result",
          "data": {
            "text/plain": [
              "235"
            ]
          },
          "metadata": {},
          "execution_count": 22
        }
      ]
    },
    {
      "cell_type": "code",
      "source": [
        "nome=\"boom\"\n",
        "sobrenome=\"shakalaka\"\n",
        "print('Meu nome é ' '' + nome + '' + ' ' +sobrenome)"
      ],
      "metadata": {
        "colab": {
          "base_uri": "https://localhost:8080/"
        },
        "id": "tPYEqC1LoU-K",
        "outputId": "200910fd-6910-4aa4-f933-0763fa1d8927"
      },
      "execution_count": 34,
      "outputs": [
        {
          "output_type": "stream",
          "name": "stdout",
          "text": [
            "Meu nome é boom shakalaka\n"
          ]
        }
      ]
    },
    {
      "cell_type": "code",
      "source": [
        "bizarro=\"vacas medonhas\"\n",
        "assabadis=\"aredaroich\"\n",
        "print(\"as \" +bizarro+ \" \" + \"falaram\" + \" \" +assabadis)"
      ],
      "metadata": {
        "colab": {
          "base_uri": "https://localhost:8080/"
        },
        "id": "CJ_XzLuSpjYo",
        "outputId": "dd33c950-789d-4481-ca98-4206bba04f5c"
      },
      "execution_count": 43,
      "outputs": [
        {
          "output_type": "stream",
          "name": "stdout",
          "text": [
            "as vacas medonhas falaram aredaroich\n"
          ]
        }
      ]
    },
    {
      "cell_type": "code",
      "source": [
        "nome =str(input('digite seu nome:'))\n",
        "sobrenome =str(input('digiteseu sobrenome:'))\n",
        "print('Meu nome é ' '' + nome + '' + ' ' +sobrenome)"
      ],
      "metadata": {
        "colab": {
          "base_uri": "https://localhost:8080/"
        },
        "id": "YBNyeodyrzyk",
        "outputId": "2eb40c68-24d6-4fa6-e868-cef84edc221c"
      },
      "execution_count": 61,
      "outputs": [
        {
          "output_type": "stream",
          "name": "stdout",
          "text": [
            "digite seu nome:danilo\n",
            "digiteseu sobrenome:santos\n",
            "Meu nome é danilo santos\n"
          ]
        }
      ]
    },
    {
      "cell_type": "code",
      "source": [
        "print(nome)"
      ],
      "metadata": {
        "colab": {
          "base_uri": "https://localhost:8080/"
        },
        "id": "FFBlUeUUtbf2",
        "outputId": "8387928e-6920-43b8-f089-6dcc91b556a2"
      },
      "execution_count": 52,
      "outputs": [
        {
          "output_type": "stream",
          "name": "stdout",
          "text": [
            "vaca\n"
          ]
        }
      ]
    },
    {
      "cell_type": "markdown",
      "source": [
        "número é int, texto é str e decimal e número é float"
      ],
      "metadata": {
        "id": "fQ3ye5v_y_9B"
      }
    },
    {
      "cell_type": "code",
      "source": [
        "#entrada\n",
        "lado=float(input(\"coloque o lado:\"))\n",
        "#procesamento\n",
        "area = (lado * lado)\n",
        "#saida\n",
        "print(\"a area é\",area)\n"
      ],
      "metadata": {
        "colab": {
          "base_uri": "https://localhost:8080/"
        },
        "id": "uBzhBHXAtvPi",
        "outputId": "37e53d8d-4827-4e2c-f3e4-ac001f3bbd67"
      },
      "execution_count": 70,
      "outputs": [
        {
          "output_type": "stream",
          "name": "stdout",
          "text": [
            "coloque o lado:4\n",
            "a area é 16.0\n"
          ]
        }
      ]
    },
    {
      "cell_type": "code",
      "source": [],
      "metadata": {
        "id": "G6nwwImDvlBy"
      },
      "execution_count": null,
      "outputs": []
    }
  ]
}