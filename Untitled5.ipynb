{
  "nbformat": 4,
  "nbformat_minor": 0,
  "metadata": {
    "colab": {
      "provenance": [],
      "authorship_tag": "ABX9TyOk8GkHt2Uzt4mWmJ3VCp1E",
      "include_colab_link": true
    },
    "kernelspec": {
      "name": "python3",
      "display_name": "Python 3"
    },
    "language_info": {
      "name": "python"
    }
  },
  "cells": [
    {
      "cell_type": "markdown",
      "metadata": {
        "id": "view-in-github",
        "colab_type": "text"
      },
      "source": [
        "<a href=\"https://colab.research.google.com/github/DaniloSM37/PA_2025/blob/main/Untitled5.ipynb\" target=\"_parent\"><img src=\"https://colab.research.google.com/assets/colab-badge.svg\" alt=\"Open In Colab\"/></a>"
      ]
    },
    {
      "cell_type": "code",
      "execution_count": 15,
      "metadata": {
        "colab": {
          "base_uri": "https://localhost:8080/"
        },
        "id": "XZK13W_cGBsI",
        "outputId": "1a157e9a-ffdb-4968-c6c5-544eeef230e5"
      },
      "outputs": [
        {
          "output_type": "stream",
          "name": "stdout",
          "text": [
            "me fale um número: 0\n",
            "seu número é zero \n"
          ]
        }
      ],
      "source": [
        "gnv = int(input('me fale um número: '))\n",
        "if gnv <0:\n",
        "  print('seu número é negativo ')\n",
        "elif gnv ==0:\n",
        "  print('seu número é zero ')\n",
        "else:\n",
        "  print('seu número é positivo ')"
      ]
    },
    {
      "cell_type": "code",
      "source": [
        "gnv = int(input('me fale um número: '))\n",
        "if gnv %2:\n",
        "  print('seu numero é impar ')\n",
        "else:\n",
        "  print('seu número é par ')"
      ],
      "metadata": {
        "colab": {
          "base_uri": "https://localhost:8080/"
        },
        "id": "l0IhZhVyHrSv",
        "outputId": "d2f5592e-58f8-4fff-fbe5-0546fe6eeec5"
      },
      "execution_count": 8,
      "outputs": [
        {
          "output_type": "stream",
          "name": "stdout",
          "text": [
            "me fale um número2\n",
            "seu número é par\n"
          ]
        }
      ]
    },
    {
      "cell_type": "code",
      "source": [
        "gnv = int(input('me fale sua idade: '))\n",
        "if gnv > 18:\n",
        "  print('você é maior de idade')\n",
        "else:\n",
        "  print('você é menor de idade')"
      ],
      "metadata": {
        "colab": {
          "base_uri": "https://localhost:8080/"
        },
        "id": "9BjCxxuUIOon",
        "outputId": "7803cfa0-98a9-4312-8ae7-8b5fb352f77c"
      },
      "execution_count": 18,
      "outputs": [
        {
          "output_type": "stream",
          "name": "stdout",
          "text": [
            "me fale sua idade: -4873534\n",
            "você é menor de idade\n"
          ]
        }
      ]
    },
    {
      "cell_type": "code",
      "source": [
        "gnv = int(input('digite sua senha: '))\n",
        "if gnv == 1234:\n",
        "  print('senha correta')\n",
        "else:\n",
        "  print('senha incorreta')"
      ],
      "metadata": {
        "colab": {
          "base_uri": "https://localhost:8080/"
        },
        "id": "erkrhG-KM1j4",
        "outputId": "f34dfec0-c1e8-4778-a984-11139af86edc"
      },
      "execution_count": 20,
      "outputs": [
        {
          "output_type": "stream",
          "name": "stdout",
          "text": [
            "digite sua senha1234\n",
            "senha correta\n"
          ]
        }
      ]
    },
    {
      "cell_type": "code",
      "source": [
        "gnv = int(input('me fale sua nota: '))\n",
        "if gnv >=11:\n",
        "  print('nota invalida')\n",
        "elif gnv <=0:\n",
        " print('nota invalida')\n",
        "elif gnv >=6:\n",
        "  print('você foi aprovado')\n",
        "else:\n",
        "  print('você não foi aprovado')"
      ],
      "metadata": {
        "colab": {
          "base_uri": "https://localhost:8080/"
        },
        "id": "qo5q569dNyjQ",
        "outputId": "31dfa24d-e11a-4d74-cb03-cf7030632517"
      },
      "execution_count": 33,
      "outputs": [
        {
          "output_type": "stream",
          "name": "stdout",
          "text": [
            "me fale sua nota: 11\n",
            "nota invalida\n"
          ]
        }
      ]
    },
    {
      "cell_type": "code",
      "source": [
        "gnv = int(input(' me fale um número: '))\n",
        "if gnv % 3 == 0:\n",
        "  print('ele é multiplo de 3')\n",
        "else:\n",
        "  print('nâo é multiplo de 3')"
      ],
      "metadata": {
        "id": "RBoyTjBKNzE3"
      },
      "execution_count": null,
      "outputs": []
    },
    {
      "cell_type": "code",
      "source": [
        "gnv = int(input(' me fale um número: '))\n",
        "if gnv % 5 == 0:\n",
        "  print('ele é multiplo de 5')\n",
        "else:\n",
        "  print('nâo é multiplo de 5')"
      ],
      "metadata": {
        "colab": {
          "base_uri": "https://localhost:8080/"
        },
        "id": "lfS9WBUwVG0k",
        "outputId": "be019f2f-84b2-48c8-8c7e-94b473d5a951"
      },
      "execution_count": 41,
      "outputs": [
        {
          "output_type": "stream",
          "name": "stdout",
          "text": [
            " me fale um número10\n",
            "ele é multiplo de 5\n"
          ]
        }
      ]
    },
    {
      "cell_type": "code",
      "source": [
        "gnv = int(input('digite um numero: '))\n",
        "if gnv >20:\n",
        "  print('seu número não está no intervalo')\n",
        "elif gnv < 10:\n",
        "  print('seu número não está no intervalo')\n",
        "else:\n",
        "  print('seu número está no intervalo')"
      ],
      "metadata": {
        "colab": {
          "base_uri": "https://localhost:8080/"
        },
        "id": "UxdwmsVYNzhP",
        "outputId": "9c3c35f2-0b6d-45d8-9c4a-82b8ae498679"
      },
      "execution_count": 40,
      "outputs": [
        {
          "output_type": "stream",
          "name": "stdout",
          "text": [
            "digite um numero: 20\n",
            "seu número está no intervalo\n"
          ]
        }
      ]
    },
    {
      "cell_type": "code",
      "source": [
        "gnv = int(input('me fale um número: '))\n",
        "sty = int(input('me fale um número: '))\n",
        "fps = int(input('me fale um número: '))\n",
        "if gnv == sty == fps:\n",
        "  print('seu triangulo é equilátero')\n",
        "elif gnv != sty != fps:\n",
        "  print('seu triangulo é escalento')\n",
        "elif (gnv == sty != fps) or (gnv != sty == fps):\n",
        "  print('seu triangulo é isósceles')\n",
        "else:\n",
        "  print('da não mano')"
      ],
      "metadata": {
        "colab": {
          "base_uri": "https://localhost:8080/"
        },
        "id": "8Z9MvNSlVVfh",
        "outputId": "ea522f55-8e78-48e8-ce74-963ff53cb5fc"
      },
      "execution_count": 48,
      "outputs": [
        {
          "output_type": "stream",
          "name": "stdout",
          "text": [
            "me fale um número: 2\n",
            "me fale um número: 3\n",
            "me fale um número: 3\n",
            "seu triangulo é isósceles\n"
          ]
        }
      ]
    }
  ]
}