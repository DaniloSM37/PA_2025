{
  "nbformat": 4,
  "nbformat_minor": 0,
  "metadata": {
    "colab": {
      "provenance": [],
      "authorship_tag": "ABX9TyP9qthUbFsX9KLfTbQodJ0U",
      "include_colab_link": true
    },
    "kernelspec": {
      "name": "python3",
      "display_name": "Python 3"
    },
    "language_info": {
      "name": "python"
    }
  },
  "cells": [
    {
      "cell_type": "markdown",
      "metadata": {
        "id": "view-in-github",
        "colab_type": "text"
      },
      "source": [
        "<a href=\"https://colab.research.google.com/github/DaniloSM37/PA_2025/blob/main/Untitled0.ipynb\" target=\"_parent\"><img src=\"https://colab.research.google.com/assets/colab-badge.svg\" alt=\"Open In Colab\"/></a>"
      ]
    },
    {
      "cell_type": "markdown",
      "source": [
        "##média\n"
      ],
      "metadata": {
        "id": "ZE-O1rfRw98-"
      }
    },
    {
      "cell_type": "code",
      "execution_count": 22,
      "metadata": {
        "colab": {
          "base_uri": "https://localhost:8080/"
        },
        "id": "4sAGwC6TesTx",
        "outputId": "cfca2b28-127f-493d-e65c-6820e6342cf0"
      },
      "outputs": [
        {
          "output_type": "stream",
          "name": "stdout",
          "text": [
            "digite a nota da primeira prova 10\n",
            "digite a nota da segunda prova 8\n",
            "a média é  9.0\n"
          ]
        }
      ],
      "source": [
        "#entrada\n",
        "n1 = float (input('digite a nota da primeira prova '))\n",
        "n2 = float (input('digite a nota da segunda prova '))\n",
        "#processamento\n",
        "mda = (n1 + n2)/2\n",
        "#saída\n",
        "print('a média é ',mda)\n"
      ]
    },
    {
      "cell_type": "markdown",
      "source": [
        "##Orçamentovalor de uma peça"
      ],
      "metadata": {
        "id": "fgq_bktHw8zT"
      }
    },
    {
      "cell_type": "code",
      "source": [
        "vl = float(input('qual o valor da peça? '))\n",
        "qtde = float(input('qual a quantidade de peças? '))\n",
        "vt = qtde*vl\n",
        "print('o valor total é de', vt)"
      ],
      "metadata": {
        "colab": {
          "base_uri": "https://localhost:8080/"
        },
        "id": "eqxs7cL2jUfT",
        "outputId": "128e7033-f6dd-4eed-bf25-15cd2d9bcc0b"
      },
      "execution_count": 30,
      "outputs": [
        {
          "output_type": "stream",
          "name": "stdout",
          "text": [
            "qual o valor da peça? 34.99\n",
            "qual a quantidade de peças? 4\n",
            "o valor total é de 139.96\n"
          ]
        }
      ]
    },
    {
      "cell_type": "markdown",
      "source": [
        "##Graus celsius para fahrenheit"
      ],
      "metadata": {
        "id": "OnN8wwdwxZ4Z"
      }
    },
    {
      "cell_type": "code",
      "source": [
        "gc = float(input('quantos graus celsius? '))\n",
        "fh = (gc*9/5)+32\n",
        "print('são',fh,'fahrenheit')"
      ],
      "metadata": {
        "colab": {
          "base_uri": "https://localhost:8080/"
        },
        "id": "vngq296pqpv2",
        "outputId": "873ce7b6-57f3-47f0-8475-2968c9830460"
      },
      "execution_count": 35,
      "outputs": [
        {
          "output_type": "stream",
          "name": "stdout",
          "text": [
            "quantos graus? 25\n",
            "são 77.0 fahrenheit\n"
          ]
        }
      ]
    },
    {
      "cell_type": "code",
      "source": [
        "km = float(input('quantos kilometros? '))\n",
        "mlh = km/1.609344\n",
        "print(km,'kilometros são',mlh,'milhas')"
      ],
      "metadata": {
        "colab": {
          "base_uri": "https://localhost:8080/"
        },
        "id": "gCsOmw1nxnv1",
        "outputId": "d3c6730c-ec70-4d87-e00e-e65dd2a74ae9"
      },
      "execution_count": 45,
      "outputs": [
        {
          "output_type": "stream",
          "name": "stdout",
          "text": [
            "quantos kilometros? 32\n",
            "32.0 kilometros são 19.883878151594686 milhas\n"
          ]
        }
      ]
    }
  ]
}