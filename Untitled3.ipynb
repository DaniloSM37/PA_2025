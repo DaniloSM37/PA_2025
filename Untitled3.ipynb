{
  "nbformat": 4,
  "nbformat_minor": 0,
  "metadata": {
    "colab": {
      "provenance": [],
      "authorship_tag": "ABX9TyOam76Zf3vgjPRNXFhn7YrB",
      "include_colab_link": true
    },
    "kernelspec": {
      "name": "python3",
      "display_name": "Python 3"
    },
    "language_info": {
      "name": "python"
    }
  },
  "cells": [
    {
      "cell_type": "markdown",
      "metadata": {
        "id": "view-in-github",
        "colab_type": "text"
      },
      "source": [
        "<a href=\"https://colab.research.google.com/github/DaniloSM37/PA_2025/blob/main/Untitled3.ipynb\" target=\"_parent\"><img src=\"https://colab.research.google.com/assets/colab-badge.svg\" alt=\"Open In Colab\"/></a>"
      ]
    },
    {
      "cell_type": "code",
      "execution_count": null,
      "metadata": {
        "id": "C2Raf1eDR9M3"
      },
      "outputs": [],
      "source": [
        "htg = int(input('coloque um número: '))\n",
        "if htg% 2 == 0:\n",
        "  print('o numeroé par')\n",
        "else:\n",
        "    print('o numero é impar')"
      ]
    },
    {
      "cell_type": "code",
      "source": [
        "gnv = int(input('digite a primeira nota: '))\n",
        "gvm = int(input('digite a segunda nota: '))\n",
        "sty = int(input('dogite a terceira nota: '))\n",
        "\n",
        "media = gnv + gvm + sty % 3\n",
        "if media > 6:\n",
        "  print('passou de ano')\n",
        "else:\n",
        "  print(\"recuperação\")"
      ],
      "metadata": {
        "colab": {
          "base_uri": "https://localhost:8080/"
        },
        "id": "u5_Su2ovR-8O",
        "outputId": "9b31826e-92d0-4db6-ccc2-e97f00d66c40"
      },
      "execution_count": null,
      "outputs": [
        {
          "output_type": "stream",
          "name": "stdout",
          "text": [
            "digite a primeira nota: 6\n",
            "digite a segunda nota: 6\n",
            "dogite a terceira nota: 6\n",
            "passou de ano\n"
          ]
        }
      ]
    },
    {
      "cell_type": "code",
      "source": [
        "gnv = int(input('digite sua idade: '))\n",
        "\n",
        "if gnv >17:\n",
        "  print('você é maior de idade')\n",
        "else:\n",
        "  print('você é menor de idade')"
      ],
      "metadata": {
        "colab": {
          "base_uri": "https://localhost:8080/"
        },
        "id": "lfmcjq4ZUdUU",
        "outputId": "0a8576e5-6224-4dd9-9ee7-666b986e2ad7"
      },
      "execution_count": null,
      "outputs": [
        {
          "output_type": "stream",
          "name": "stdout",
          "text": [
            "digite sua idade: 18\n",
            "você é maior de idade\n"
          ]
        }
      ]
    },
    {
      "cell_type": "code",
      "source": [
        "gnv = int(input('digite um número'))\n",
        "if gnv %5==0:\n",
        "  print('seu número é multiplo de 5')\n",
        "else:\n",
        "  print('seu número não é multiplo de 5')"
      ],
      "metadata": {
        "colab": {
          "base_uri": "https://localhost:8080/"
        },
        "id": "nP1HwAC7WG6_",
        "outputId": "c567b168-edec-47ec-b9ba-fb15dbee9c5a"
      },
      "execution_count": null,
      "outputs": [
        {
          "output_type": "stream",
          "name": "stdout",
          "text": [
            "digite um número6\n",
            "seu número não é multiplo de 5\n"
          ]
        }
      ]
    },
    {
      "cell_type": "code",
      "source": [
        "gnv = float(input('fale seu peso em kg '))\n",
        "sty = float(input('me fale sua altua em metros '))\n",
        "imc = gnv / (sty **2)\n",
        "if imc < 17:\n",
        "  print('Muito abaixo do peso')\n",
        "elif imc > 18.49 <25:\n",
        "  print('peso normal')\n",
        "elif imc > 25 <30:\n",
        "  print('sobrepeso')\n",
        "elif imc > 30 <35:\n",
        "  print('obesidade grau 1')\n",
        "elif imc > 35 < 40:\n",
        "  print('obesidade grau 2')\n",
        "else:\n",
        "  print('obesidade grau 3')"
      ],
      "metadata": {
        "colab": {
          "base_uri": "https://localhost:8080/"
        },
        "id": "Lvo6hqMmD7KS",
        "outputId": "a7bcb2a3-c5b0-4261-eb90-d1f7833736d1"
      },
      "execution_count": 34,
      "outputs": [
        {
          "output_type": "stream",
          "name": "stdout",
          "text": [
            "fale seu peso em kg 80\n",
            "me fale sua altua em metros 1.90\n",
            "peso normal\n"
          ]
        }
      ]
    },
    {
      "cell_type": "code",
      "source": [
        "gnv = int(input('me fale um número '))\n",
        "if gnv < 0:\n",
        "  print('seu numero é negativo')\n",
        "elif gnv == 0:\n",
        "  print('seu número é 0')\n",
        "else:\n",
        "  print('Seu numero é positivo')"
      ],
      "metadata": {
        "id": "ODCw6NjhW3h1",
        "colab": {
          "base_uri": "https://localhost:8080/"
        },
        "outputId": "745290e4-702f-45f5-e757-445c9bbf2567"
      },
      "execution_count": 11,
      "outputs": [
        {
          "output_type": "stream",
          "name": "stdout",
          "text": [
            "me fale um número 0\n",
            "seu númeroé 0\n"
          ]
        }
      ]
    },
    {
      "cell_type": "code",
      "source": [
        "gnv = int(input('primeiro número '))\n",
        "fps = (input('qual operação (+, -, *, /) '))\n",
        "sty = int(input('segundo número '))\n",
        "\n",
        "if fps == '+':\n",
        "  print(gnv + sty)\n",
        "elif fps == '-':\n",
        "  print(gnv - sty)\n",
        "elif fps == '*':\n",
        "  print(gnv * sty)\n",
        "elif fps == \"/\":\n",
        "  if gnv or sty == 0:\n",
        "    print('impossivel dividir por 0')\n",
        "  else:\n",
        "    print(gnv / sty)\n",
        "else:\n",
        "  print('operador inválido')"
      ],
      "metadata": {
        "colab": {
          "base_uri": "https://localhost:8080/"
        },
        "id": "azRg-EajCmrX",
        "outputId": "dbab19ae-1f56-413d-f67a-56704fb0f5e5"
      },
      "execution_count": 16,
      "outputs": [
        {
          "output_type": "stream",
          "name": "stdout",
          "text": [
            "primeiro número 5\n",
            "qual operação (+, -, *, /) /\n",
            "segundo número 0\n",
            "impossivel dividir por 0\n"
          ]
        }
      ]
    },
    {
      "cell_type": "code",
      "source": [
        "gnv = 0\n",
        "sty = (gnv + 1)\n",
        "fps = (sty + 1)\n",
        "lgt = (fps + 1)\n",
        "tcn = (lgt + 1)\n",
        "msp = (tcn + 1)\n",
        "boom = (msp + 1)\n",
        "utr = (boom + 1)\n",
        "thm = (utr + 1)\n",
        "brb = (thm + 1)\n",
        "spk = (brb + 1)\n",
        "\n",
        "print(gnv + 1)\n",
        "print(sty + 1)\n",
        "print(fps + 1)\n",
        "print(lgt + 1)\n",
        "print(tcn + 1)\n",
        "print(msp + 1)\n",
        "print(boom + 1)\n",
        "print(utr + 1)\n",
        "print(thm + 1)\n",
        "print(brb + 1)"
      ],
      "metadata": {
        "colab": {
          "base_uri": "https://localhost:8080/"
        },
        "id": "NVK2_4P8D2XW",
        "outputId": "a3ba49f7-301f-4b9a-8ab2-ba90a5e1bc59"
      },
      "execution_count": 30,
      "outputs": [
        {
          "output_type": "stream",
          "name": "stdout",
          "text": [
            "1\n",
            "2\n",
            "3\n",
            "4\n",
            "5\n",
            "6\n",
            "7\n",
            "8\n",
            "9\n",
            "10\n"
          ]
        }
      ]
    },
    {
      "cell_type": "code",
      "source": [
        "gnv = 11\n",
        "sty = (gnv - 1)\n",
        "fps = (sty - 1)\n",
        "lgt = (fps - 1)\n",
        "tcn = (lgt - 1)\n",
        "msp = (tcn - 1)\n",
        "boom = (msp - 1)\n",
        "utr = (boom - 1)\n",
        "thm = (utr - 1)\n",
        "brb = (thm - 1)\n",
        "spk = (brb - 1)\n",
        "\n",
        "print(gnv - 1)\n",
        "print(sty - 1)\n",
        "print(fps - 1)\n",
        "print(lgt - 1)\n",
        "print(tcn - 1)\n",
        "print(msp - 1)\n",
        "print(boom - 1)\n",
        "print(utr - 1)\n",
        "print(thm - 1)\n",
        "print(brb - 1)"
      ],
      "metadata": {
        "colab": {
          "base_uri": "https://localhost:8080/"
        },
        "id": "4GopDD6-D2tl",
        "outputId": "528e477b-b7be-4da0-adc6-ece7234ff1aa"
      },
      "execution_count": 27,
      "outputs": [
        {
          "output_type": "stream",
          "name": "stdout",
          "text": [
            "10\n",
            "9\n",
            "8\n",
            "7\n",
            "6\n",
            "5\n",
            "4\n",
            "3\n",
            "2\n",
            "1\n"
          ]
        }
      ]
    },
    {
      "cell_type": "code",
      "source": [
        "gnv = float(input('escolha um número '))\n",
        "print(gnv*1)\n",
        "print(gnv*2)\n",
        "print(gnv*3)\n",
        "print(gnv*4)\n",
        "print(gnv*5)\n",
        "print(gnv*6)\n",
        "print(gnv*7)\n",
        "print(gnv*8)\n",
        "print(gnv*9)\n",
        "print(gnv*10)"
      ],
      "metadata": {
        "colab": {
          "base_uri": "https://localhost:8080/"
        },
        "id": "savO51MvD3Hd",
        "outputId": "ad30b166-ad1a-418f-fe59-e332cba84091"
      },
      "execution_count": 36,
      "outputs": [
        {
          "output_type": "stream",
          "name": "stdout",
          "text": [
            "escolha um número 5\n",
            "5.0\n",
            "10.0\n",
            "15.0\n",
            "20.0\n",
            "25.0\n",
            "30.0\n",
            "35.0\n",
            "40.0\n",
            "45.0\n",
            "50.0\n"
          ]
        }
      ]
    },
    {
      "cell_type": "code",
      "source": [],
      "metadata": {
        "id": "gOiH7JNOD3ll"
      },
      "execution_count": null,
      "outputs": []
    },
    {
      "cell_type": "code",
      "source": [],
      "metadata": {
        "id": "J0OcND09D371"
      },
      "execution_count": null,
      "outputs": []
    },
    {
      "cell_type": "code",
      "source": [],
      "metadata": {
        "id": "DpfnzfhqD47l"
      },
      "execution_count": null,
      "outputs": []
    },
    {
      "cell_type": "code",
      "source": [],
      "metadata": {
        "id": "ljvQlhB9D5W2"
      },
      "execution_count": null,
      "outputs": []
    }
  ]
}