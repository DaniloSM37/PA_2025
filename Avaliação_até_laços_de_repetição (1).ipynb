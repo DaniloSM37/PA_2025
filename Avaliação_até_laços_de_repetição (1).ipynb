{
 "cells": [
  {
   "cell_type": "markdown",
   "metadata": {
    "id": "oncsAo0QKXM4"
   },
   "source": [
    "**Coloque seu nome aqui: **"
   ]
  },
  {
   "cell_type": "markdown",
   "metadata": {
    "id": "2Wtw01VyHzBQ"
   },
   "source": [
    "1)Crie um programa em python que imprima números pares\n",
    "\n",
    "a) Pedir o usuário para digitar uma lista com mínimo 10 números\n",
    "\n",
    "b) Criar uma nova somente com numeros pares\n",
    "\n",
    "c) Imprimir números pares"
   ]
  },
  {
   "cell_type": "code",
   "execution_count": 1,
   "metadata": {
    "id": "iBpbyKp8KNKX"
   },
   "outputs": [
    {
     "name": "stdin",
     "output_type": "stream",
     "text": [
      "Número:  1\n",
      "Número:  2\n",
      "Número:  3\n",
      "Número:  4\n",
      "Número:  5\n",
      "Número:  7\n",
      "Número:  9\n",
      "Número:  0654\n",
      "Número:  435634\n",
      "Número:  345\n"
     ]
    },
    {
     "name": "stdout",
     "output_type": "stream",
     "text": [
      "Números pares: [2, 4, 654, 435634]\n"
     ]
    }
   ],
   "source": [
    "gnv = [int(input(\"Número: \")) for _ in range(10)]\n",
    "sty = [n for n in gnv if n % 2 == 0]\n",
    "print(\"Números pares:\", sty)\n"
   ]
  },
  {
   "cell_type": "markdown",
   "metadata": {
    "id": "bBYPSr8JHpUA"
   },
   "source": [
    "2)Crie um programa que conte quantas vezes cada palavra aparece em uma frase.\n",
    "\n",
    "Pedir ao usuário para digitar uma frase. Imprimir a palavra e quantas vezes ela aparece"
   ]
  },
  {
   "cell_type": "code",
   "execution_count": 2,
   "metadata": {
    "id": "dQLlv-lPKPT4"
   },
   "outputs": [
    {
     "name": "stdin",
     "output_type": "stream",
     "text": [
      "Digite uma frase:  emanuel é muito muito burro\n"
     ]
    },
    {
     "name": "stdout",
     "output_type": "stream",
     "text": [
      "emanuel: 1\n",
      "é: 1\n",
      "muito: 2\n",
      "burro: 1\n"
     ]
    }
   ],
   "source": [
    "gnv = input(\"Digite uma frase: \").lower().split()\n",
    "sty = {}\n",
    "\n",
    "for palavra in gnv:\n",
    "    sty[palavra] = sty.get(palavra, 0) + 1\n",
    "\n",
    "for palavra, qtd in sty.items():\n",
    "    print(f\"{palavra}: {qtd}\")\n"
   ]
  },
  {
   "cell_type": "markdown",
   "metadata": {
    "id": "bbWz0aL2HjP3"
   },
   "source": [
    "3)Crie um programa em Python para avaliar um desfile de candidatas. O programa deve:\n",
    "\n",
    "a) Perguntar quantas candidatas vão participar.\n",
    "\n",
    "b) Perguntar o nome de cada candidata.\n",
    "\n",
    "c) Para cada candidata, receber 3 notas (uma de cada jurado).\n",
    "\n",
    "d) Somar as notas e guardar o total em um dicionário, onde a chave é o nome da candidata e o valor é a soma das notas.\n",
    "\n",
    "Mostrar ao final:\n",
    "\n",
    "a) A pontuação total de cada candidata.\n",
    "\n",
    "b) O nome da vencedora (a que tiver a maior pontuação)."
   ]
  },
  {
   "cell_type": "markdown",
   "metadata": {
    "id": "wrhGujbvHebJ"
   },
   "source": [
    "n = int(input(\"Quantas candidatas? \"))\n",
    "pontuacoes = {}\n",
    "\n",
    "for _ in range(n):\n",
    "    nome = input(\"Nome: \")\n",
    "    notas = [float(input(f\"Nota {i+1}: \")) for i in range(3)]\n",
    "    pontuacoes[nome] = sum(notas)\n",
    "\n",
    "for nome, total in pontuacoes.items():\n",
    "    print(f\"{nome}: {total}\")\n",
    "\n",
    "vencedora = max(pontuacoes, key=pontuacoes.get)\n",
    "print(f\"Vencedora: {vencedora} com {pontuacoes[vencedora]}\")\n"
   ]
  },
  {
   "cell_type": "code",
   "execution_count": null,
   "metadata": {},
   "outputs": [
    {
     "name": "stdin",
     "output_type": "stream",
     "text": [
      "Quantas candidatas?  9\n"
     ]
    }
   ],
   "source": [
    "n = int(input(\"Quantas candidatas? \"))\n",
    "pontuacoes = {}\n",
    "\n",
    "for _ in range(n):\n",
    "    nome = input(\"Nome: \")\n",
    "    notas = [float(input(f\"Nota {i+1}: \")) for i in range(3)]\n",
    "    pontuacoes[nome] = sum(notas)\n",
    "\n",
    "for nome, total in pontuacoes.items():\n",
    "    print(f\"{nome}: {total}\")\n",
    "\n",
    "vencedora = max(pontuacoes, key=pontuacoes.get)\n",
    "print(f\"Vencedora: {vencedora} com {pontuacoes[vencedora]}\")\n"
   ]
  },
  {
   "cell_type": "code",
   "execution_count": null,
   "metadata": {},
   "outputs": [],
   "source": []
  }
 ],
 "metadata": {
  "colab": {
   "provenance": []
  },
  "kernelspec": {
   "display_name": "Python 3 (ipykernel)",
   "language": "python",
   "name": "python3"
  },
  "language_info": {
   "codemirror_mode": {
    "name": "ipython",
    "version": 3
   },
   "file_extension": ".py",
   "mimetype": "text/x-python",
   "name": "python",
   "nbconvert_exporter": "python",
   "pygments_lexer": "ipython3",
   "version": "3.11.4"
  }
 },
 "nbformat": 4,
 "nbformat_minor": 4
}
