{
 "cells": [
  {
   "cell_type": "markdown",
   "metadata": {
    "id": "oncsAo0QKXM4"
   },
   "source": [
    "**Coloque seu nome aqui: Danilo **"
   ]
  },
  {
   "cell_type": "markdown",
   "metadata": {
    "id": "2Wtw01VyHzBQ"
   },
   "source": [
    "1)Crie um programa em python que imprima números pares\n",
    "\n",
    "a) Pedir o usuário para digitar uma lista com mínimo 10 números\n",
    "\n",
    "b) Criar uma nova somente com numeros pares\n",
    "\n",
    "c) Imprimir números pares"
   ]
  },
  {
   "cell_type": "code",
   "execution_count": 74,
   "metadata": {
    "id": "iBpbyKp8KNKX"
   },
   "outputs": [
    {
     "ename": "SyntaxError",
     "evalue": "invalid syntax (696967665.py, line 2)",
     "output_type": "error",
     "traceback": [
      "\u001b[1;36m  Cell \u001b[1;32mIn[74], line 2\u001b[1;36m\u001b[0m\n\u001b[1;33m    for i in del[0,11,2]:\u001b[0m\n\u001b[1;37m             ^\u001b[0m\n\u001b[1;31mSyntaxError\u001b[0m\u001b[1;31m:\u001b[0m invalid syntax\n"
     ]
    }
   ],
   "source": [
    "gnv = list(input('me fale uma lista com 10 números inteiros'))\n",
    "for gnv in range[0,11,2]:\n",
    "    print(gnv)"
   ]
  },
  {
   "cell_type": "markdown",
   "metadata": {
    "id": "bBYPSr8JHpUA"
   },
   "source": [
    "2)Crie um programa que conte quantas vezes cada palavra aparece em uma frase.\n",
    "\n",
    "Pedir ao usuário para digitar uma frase. Imprimir a palavra e quantas vezes ela aparece"
   ]
  },
  {
   "cell_type": "code",
   "execution_count": 26,
   "metadata": {
    "id": "dQLlv-lPKPT4"
   },
   "outputs": [
    {
     "name": "stdin",
     "output_type": "stream",
     "text": [
      "me fale uma frase qwe\n"
     ]
    }
   ],
   "source": [
    "gnv = str(input('me fale uma frase'))\n"
   ]
  },
  {
   "cell_type": "markdown",
   "metadata": {
    "id": "bbWz0aL2HjP3"
   },
   "source": [
    "3)Crie um programa em Python para avaliar um desfile de candidatas. O programa deve:\n",
    "\n",
    "a) Perguntar quantas candidatas vão participar.\n",
    "\n",
    "b) Perguntar o nome de cada candidata.\n",
    "\n",
    "c) Para cada candidata, receber 3 notas (uma de cada jurado).\n",
    "\n",
    "d) Somar as notas e guardar o total em um dicionário, onde a chave é o nome da candidata e o valor é a soma das notas.\n",
    "\n",
    "Mostrar ao final:\n",
    "\n",
    "a) A pontuação total de cada candidata.\n",
    "\n",
    "b) O nome da vencedora (a que tiver a maior pontuação)."
   ]
  },
  {
   "cell_type": "code",
   "execution_count": null,
   "metadata": {
    "id": "wrhGujbvHebJ"
   },
   "outputs": [],
   "source": []
  }
 ],
 "metadata": {
  "colab": {
   "provenance": []
  },
  "kernelspec": {
   "display_name": "Python 3 (ipykernel)",
   "language": "python",
   "name": "python3"
  },
  "language_info": {
   "codemirror_mode": {
    "name": "ipython",
    "version": 3
   },
   "file_extension": ".py",
   "mimetype": "text/x-python",
   "name": "python",
   "nbconvert_exporter": "python",
   "pygments_lexer": "ipython3",
   "version": "3.11.4"
  }
 },
 "nbformat": 4,
 "nbformat_minor": 4
}
